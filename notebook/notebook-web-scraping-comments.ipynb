{
 "cells": [
  {
   "attachments": {},
   "cell_type": "markdown",
   "metadata": {},
   "source": [
    "# Web Scraping des données d’avis de spectacteurs\n",
    "\n",
    "*David Scanu et Ramata Soraya Dussart*\n",
    "\n",
    "Ce notebook utilise **Beautiful Soup** pour effectuer un web scraping des commentaires des films \"Inception\" et \"Sonic 2\". **Ces commentaires sont ensuite sauvegardés dans un fichier .csv**."
   ]
  },
  {
   "cell_type": "code",
   "execution_count": 1,
   "metadata": {},
   "outputs": [],
   "source": [
    "from bs4 import BeautifulSoup\n",
    "import requests\n",
    "import pandas as pd"
   ]
  },
  {
   "cell_type": "code",
   "execution_count": 3,
   "metadata": {},
   "outputs": [],
   "source": [
    "def scrape_comments(url, max_page):\n",
    "\t\"\"\"Function that scrapes comments and associated notes on Allo Ciné.\"\"\"\n",
    "\n",
    "\t# Headers for request\n",
    "\tHEADERS = ({'User-Agent':'Mozilla/5.0 (X11; Linux x86_64) AppleWebKit/537.36 (KHTML, like Gecko) Chrome/44.0.2403.157 Safari/537.36', 'Accept-Language': 'en-US, en;q=0.5'})\n",
    "\n",
    "\tcomments_count = 0\n",
    "\n",
    "\ttotal_comments_list = []\n",
    "\n",
    "\tfor i in range(1, max_page+1):\n",
    "\t\t\n",
    "\t\turl_page = url + f\"?page={i}\"\n",
    "\n",
    "\t\t# HTTP Request\n",
    "\t\twebpage = requests.get(url_page, headers=HEADERS)\n",
    "\t\t# Soup Object containing all data\n",
    "\t\tsoup = BeautifulSoup(webpage.content, \"lxml\")\n",
    "\t\t# Comments\n",
    "\t\tcomments = soup.find_all(\"div\", {\"class\" : \"hred review-card cf\"})\n",
    "\n",
    "\t\t# print(f\"Page => {i}\")\n",
    "\t\t# print(url_page)\n",
    "\n",
    "\t\tfor comment in comments:\n",
    "\n",
    "\t\t\tcomment_ls = []\n",
    "\t\t\t# Note\n",
    "\t\t\tcomment_note = comment.find(\"span\", {\"class\": \"stareval-note\"}).get_text().replace(',', '.')\n",
    "\t\t\t# convert to float\n",
    "\t\t\tcomment_note_float = float(comment_note)\n",
    "\t\t\t# Text\n",
    "\t\t\tcomment_text = comment.find(\"div\", {\"class\", \"content-txt review-card-content\"}).get_text().strip().replace('\"', \"'\").replace(\"spoiler:\", '').replace(\" [spoiler]\", '')\n",
    "\n",
    "\t\t\tcomment_ls.append(comment_note_float)\n",
    "\t\t\tcomment_ls.append(comment_text)\n",
    "\n",
    "\t\t\tcomments_count += 1\n",
    "\t\t\ttotal_comments_list.append(comment_ls)\n",
    "\n",
    "\tprint(f\"{comments_count} comments imported in DataFrame.\")\n",
    "\n",
    "\tdf = pd.DataFrame(total_comments_list, columns=['note', 'comment'])\n",
    "\treturn df"
   ]
  },
  {
   "attachments": {},
   "cell_type": "markdown",
   "metadata": {},
   "source": [
    "#### Inception"
   ]
  },
  {
   "cell_type": "code",
   "execution_count": 4,
   "metadata": {},
   "outputs": [
    {
     "name": "stdout",
     "output_type": "stream",
     "text": [
      "7175 comments imported in DataFrame.\n"
     ]
    }
   ],
   "source": [
    "url_inception = \"https://www.allocine.fr/film/fichefilm-143692/critiques/spectateurs/\"\n",
    "df_inception = scrape_comments(url_inception, 479)"
   ]
  },
  {
   "cell_type": "code",
   "execution_count": null,
   "metadata": {},
   "outputs": [
    {
     "data": {
      "text/plain": [
       "(7175, 2)"
      ]
     },
     "execution_count": 24,
     "metadata": {},
     "output_type": "execute_result"
    }
   ],
   "source": [
    "df_inception.shape"
   ]
  },
  {
   "cell_type": "code",
   "execution_count": null,
   "metadata": {},
   "outputs": [
    {
     "data": {
      "text/html": [
       "<div>\n",
       "<style scoped>\n",
       "    .dataframe tbody tr th:only-of-type {\n",
       "        vertical-align: middle;\n",
       "    }\n",
       "\n",
       "    .dataframe tbody tr th {\n",
       "        vertical-align: top;\n",
       "    }\n",
       "\n",
       "    .dataframe thead th {\n",
       "        text-align: right;\n",
       "    }\n",
       "</style>\n",
       "<table border=\"1\" class=\"dataframe\">\n",
       "  <thead>\n",
       "    <tr style=\"text-align: right;\">\n",
       "      <th></th>\n",
       "      <th>note</th>\n",
       "      <th>comment</th>\n",
       "    </tr>\n",
       "  </thead>\n",
       "  <tbody>\n",
       "    <tr>\n",
       "      <th>0</th>\n",
       "      <td>5.0</td>\n",
       "      <td>Après le chef d'oeuvre super-héroïque The Dark...</td>\n",
       "    </tr>\n",
       "    <tr>\n",
       "      <th>1</th>\n",
       "      <td>5.0</td>\n",
       "      <td>C’est fou ce qu’on aime détester Christopher N...</td>\n",
       "    </tr>\n",
       "    <tr>\n",
       "      <th>2</th>\n",
       "      <td>5.0</td>\n",
       "      <td>CHEF D’ŒUVRE ! Le film est absolument parfait ...</td>\n",
       "    </tr>\n",
       "    <tr>\n",
       "      <th>3</th>\n",
       "      <td>5.0</td>\n",
       "      <td>Un film aussi novateur que complexe, dont la m...</td>\n",
       "    </tr>\n",
       "    <tr>\n",
       "      <th>4</th>\n",
       "      <td>5.0</td>\n",
       "      <td>Christopher Nolan est sûrement l'un des seuls ...</td>\n",
       "    </tr>\n",
       "  </tbody>\n",
       "</table>\n",
       "</div>"
      ],
      "text/plain": [
       "   note                                            comment\n",
       "0   5.0  Après le chef d'oeuvre super-héroïque The Dark...\n",
       "1   5.0  C’est fou ce qu’on aime détester Christopher N...\n",
       "2   5.0  CHEF D’ŒUVRE ! Le film est absolument parfait ...\n",
       "3   5.0  Un film aussi novateur que complexe, dont la m...\n",
       "4   5.0  Christopher Nolan est sûrement l'un des seuls ..."
      ]
     },
     "execution_count": 25,
     "metadata": {},
     "output_type": "execute_result"
    }
   ],
   "source": [
    "df_inception.head()"
   ]
  },
  {
   "attachments": {},
   "cell_type": "markdown",
   "metadata": {},
   "source": [
    "#### Sonic 2"
   ]
  },
  {
   "cell_type": "code",
   "execution_count": null,
   "metadata": {},
   "outputs": [
    {
     "name": "stdout",
     "output_type": "stream",
     "text": [
      "190 comments imported in DF.\n"
     ]
    }
   ],
   "source": [
    "url_sonic_2 = \"https://www.allocine.fr/film/fichefilm-281203/critiques/spectateurs/\"\n",
    "df_sonic_2 = scrape_comments(url_sonic_2, 13)"
   ]
  },
  {
   "attachments": {},
   "cell_type": "markdown",
   "metadata": {},
   "source": [
    "#### Concatenation des deux DataFrame"
   ]
  },
  {
   "cell_type": "code",
   "execution_count": null,
   "metadata": {},
   "outputs": [
    {
     "name": "stdout",
     "output_type": "stream",
     "text": [
      "(7175, 2)\n",
      "(190, 2)\n"
     ]
    }
   ],
   "source": [
    "print(df_inception.shape)\n",
    "print(df_sonic_2.shape)"
   ]
  },
  {
   "cell_type": "code",
   "execution_count": null,
   "metadata": {},
   "outputs": [
    {
     "data": {
      "text/plain": [
       "(7365, 2)"
      ]
     },
     "execution_count": 28,
     "metadata": {},
     "output_type": "execute_result"
    }
   ],
   "source": [
    "df = pd.concat([df_inception, df_sonic_2])\n",
    "df.shape"
   ]
  },
  {
   "attachments": {},
   "cell_type": "markdown",
   "metadata": {},
   "source": [
    "#### Export en fichier .csv"
   ]
  },
  {
   "cell_type": "code",
   "execution_count": null,
   "metadata": {},
   "outputs": [
    {
     "data": {
      "text/plain": [
       "(7365, 2)"
      ]
     },
     "execution_count": 33,
     "metadata": {},
     "output_type": "execute_result"
    }
   ],
   "source": [
    "# Exporting to .csv file\n",
    "df.to_csv('corpus.csv', sep='|', index=False)\n",
    "df.shape"
   ]
  }
 ],
 "metadata": {
  "kernelspec": {
   "display_name": "Python (venv)",
   "language": "python",
   "name": "venv"
  },
  "language_info": {
   "codemirror_mode": {
    "name": "ipython",
    "version": 3
   },
   "file_extension": ".py",
   "mimetype": "text/x-python",
   "name": "python",
   "nbconvert_exporter": "python",
   "pygments_lexer": "ipython3",
   "version": "3.10.6 (main, Aug 10 2022, 11:40:04) [GCC 11.3.0]"
  },
  "orig_nbformat": 4,
  "vscode": {
   "interpreter": {
    "hash": "5a537cdb13d7aeb39d11da608c8476043be259ee4aa207ebadd48cee87be9109"
   }
  }
 },
 "nbformat": 4,
 "nbformat_minor": 2
}
